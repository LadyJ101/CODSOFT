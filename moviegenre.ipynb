{
 "cells": [
  {
   "cell_type": "markdown",
   "metadata": {},
   "source": [
    "IMPORTING LIBRARIES"
   ]
  },
  {
   "cell_type": "code",
   "execution_count": 23,
   "metadata": {},
   "outputs": [
    {
     "name": "stderr",
     "output_type": "stream",
     "text": [
      "[nltk_data] Downloading package stopwords to\n",
      "[nltk_data]     C:\\Users\\User\\AppData\\Roaming\\nltk_data...\n",
      "[nltk_data]   Package stopwords is already up-to-date!\n"
     ]
    }
   ],
   "source": [
    "import pandas as pd\n",
    "import numpy as np\n",
    "import re\n",
    "import nltk\n",
    "from nltk.corpus import stopwords\n",
    "nltk.download(\"stopwords\")\n",
    "import sklearn\n",
    "from sklearn.feature_extraction.text import TfidfVectorizer\n",
    "from sklearn.preprocessing import LabelEncoder\n",
    "from sklearn.model_selection import train_test_split\n",
    "from sklearn.linear_model import LogisticRegression\n",
    "from sklearn.metrics import accuracy_score, classification_report\n",
    "from sklearn.utils.class_weight import compute_class_weight\n",
    "from sklearn.feature_selection import SelectFromModel\n"
   ]
  },
  {
   "cell_type": "markdown",
   "metadata": {},
   "source": [
    "LOADING DATASET"
   ]
  },
  {
   "cell_type": "code",
   "execution_count": 24,
   "metadata": {},
   "outputs": [
    {
     "data": {
      "text/html": [
       "<div>\n",
       "<style scoped>\n",
       "    .dataframe tbody tr th:only-of-type {\n",
       "        vertical-align: middle;\n",
       "    }\n",
       "\n",
       "    .dataframe tbody tr th {\n",
       "        vertical-align: top;\n",
       "    }\n",
       "\n",
       "    .dataframe thead th {\n",
       "        text-align: right;\n",
       "    }\n",
       "</style>\n",
       "<table border=\"1\" class=\"dataframe\">\n",
       "  <thead>\n",
       "    <tr style=\"text-align: right;\">\n",
       "      <th></th>\n",
       "      <th>ID</th>\n",
       "      <th>Title</th>\n",
       "      <th>Genre</th>\n",
       "      <th>Description</th>\n",
       "    </tr>\n",
       "  </thead>\n",
       "  <tbody>\n",
       "    <tr>\n",
       "      <th>0</th>\n",
       "      <td>1</td>\n",
       "      <td>Oscar et la dame rose (2009)</td>\n",
       "      <td>drama</td>\n",
       "      <td>Listening in to a conversation between his do...</td>\n",
       "    </tr>\n",
       "    <tr>\n",
       "      <th>1</th>\n",
       "      <td>2</td>\n",
       "      <td>Cupid (1997)</td>\n",
       "      <td>thriller</td>\n",
       "      <td>A brother and sister with a past incestuous r...</td>\n",
       "    </tr>\n",
       "    <tr>\n",
       "      <th>2</th>\n",
       "      <td>3</td>\n",
       "      <td>Young, Wild and Wonderful (1980)</td>\n",
       "      <td>adult</td>\n",
       "      <td>As the bus empties the students for their fie...</td>\n",
       "    </tr>\n",
       "    <tr>\n",
       "      <th>3</th>\n",
       "      <td>4</td>\n",
       "      <td>The Secret Sin (1915)</td>\n",
       "      <td>drama</td>\n",
       "      <td>To help their unemployed father make ends mee...</td>\n",
       "    </tr>\n",
       "    <tr>\n",
       "      <th>4</th>\n",
       "      <td>5</td>\n",
       "      <td>The Unrecovered (2007)</td>\n",
       "      <td>drama</td>\n",
       "      <td>The film's title refers not only to the un-re...</td>\n",
       "    </tr>\n",
       "  </tbody>\n",
       "</table>\n",
       "</div>"
      ],
      "text/plain": [
       "   ID                               Title       Genre  \\\n",
       "0   1       Oscar et la dame rose (2009)       drama    \n",
       "1   2                       Cupid (1997)    thriller    \n",
       "2   3   Young, Wild and Wonderful (1980)       adult    \n",
       "3   4              The Secret Sin (1915)       drama    \n",
       "4   5             The Unrecovered (2007)       drama    \n",
       "\n",
       "                                         Description  \n",
       "0   Listening in to a conversation between his do...  \n",
       "1   A brother and sister with a past incestuous r...  \n",
       "2   As the bus empties the students for their fie...  \n",
       "3   To help their unemployed father make ends mee...  \n",
       "4   The film's title refers not only to the un-re...  "
      ]
     },
     "execution_count": 24,
     "metadata": {},
     "output_type": "execute_result"
    }
   ],
   "source": [
    "train_data = pd.read_csv(\"C:/Users/User/Downloads/Genre Classification Dataset/train_data.txt\", sep = \":::\", engine = \"python\", names = [\"ID\",\"Title\",\"Genre\",\"Description\"])\n",
    "test_data = pd.read_csv(\"C:/Users/User/Downloads/Genre Classification Dataset/test_data.txt\", sep = \":::\", engine = \"python\", names =[\"ID\",\"Title\",\"Description\"])\n",
    "train_data.head()"
   ]
  },
  {
   "cell_type": "markdown",
   "metadata": {},
   "source": [
    "CHECKING FOR MISSING DATA"
   ]
  },
  {
   "cell_type": "code",
   "execution_count": 25,
   "metadata": {},
   "outputs": [
    {
     "data": {
      "text/plain": [
       "np.int64(0)"
      ]
     },
     "execution_count": 25,
     "metadata": {},
     "output_type": "execute_result"
    }
   ],
   "source": [
    "train_data.isnull().sum()\n",
    "test_data.isnull().sum()\n",
    "train_data.duplicated().sum()\n",
    "test_data.duplicated().sum()"
   ]
  },
  {
   "cell_type": "markdown",
   "metadata": {},
   "source": [
    "MAKING GENRES OF THE SAME CHARACTER"
   ]
  },
  {
   "cell_type": "code",
   "execution_count": 26,
   "metadata": {},
   "outputs": [
    {
     "name": "stdout",
     "output_type": "stream",
     "text": [
      "Gneres after cleaning:  <bound method Series.unique of 0               drama \n",
      "1            thriller \n",
      "2               adult \n",
      "3               drama \n",
      "4               drama \n",
      "             ...      \n",
      "54209          comedy \n",
      "54210          horror \n",
      "54211     documentary \n",
      "54212          comedy \n",
      "54213         history \n",
      "Name: Genre, Length: 54214, dtype: object>\n"
     ]
    }
   ],
   "source": [
    "train_data[\"Gnere\"] = train_data[\"Genre\"].str.strip().str.lower()\n",
    "print(\"Gneres after cleaning: \",train_data[\"Genre\"].unique)"
   ]
  },
  {
   "cell_type": "markdown",
   "metadata": {},
   "source": [
    "CLEANING THE DATASET"
   ]
  },
  {
   "cell_type": "code",
   "execution_count": 27,
   "metadata": {},
   "outputs": [],
   "source": [
    "stop_words = set(stopwords.words(\"english\"))\n",
    "def cleaned_set(text):\n",
    "    if isinstance(text,str):\n",
    "        text = text.lower()\n",
    "        text = re.sub(r\"\\W\",\" \",text)\n",
    "        text = re.sub(r\"\\s+\",\" \",text).strip()\n",
    "        text = re.sub(r\"\\d+\",\" \",text)\n",
    "        words = text.split()\n",
    "        words = [word for word in words if word not in stop_words]\n",
    "        return \" \".join(words)\n",
    "    return \"\"\n",
    "train_data[\"new_Description\"] = train_data[\"Description\"].apply(cleaned_set)\n",
    "test_data[\"new_Description\"] = test_data[\"Description\"].apply(cleaned_set)"
   ]
  },
  {
   "cell_type": "code",
   "execution_count": 28,
   "metadata": {},
   "outputs": [
    {
     "name": "stdout",
     "output_type": "stream",
     "text": [
      "(54214, 6)\n",
      "(54200, 4)\n",
      "                                         Description  \\\n",
      "0   Listening in to a conversation between his do...   \n",
      "1   A brother and sister with a past incestuous r...   \n",
      "2   As the bus empties the students for their fie...   \n",
      "3   To help their unemployed father make ends mee...   \n",
      "4   The film's title refers not only to the un-re...   \n",
      "\n",
      "                                     new_Description  \n",
      "0  listening conversation doctor parents year old...  \n",
      "1  brother sister past incestuous relationship cu...  \n",
      "2  bus empties students field trip museum natural...  \n",
      "3  help unemployed father make ends meet edith tw...  \n",
      "4  film title refers un recovered bodies ground z...  \n"
     ]
    }
   ],
   "source": [
    "print(train_data.shape)\n",
    "print(test_data.shape)\n",
    "print(train_data[[\"Description\",\"new_Description\"]].head())"
   ]
  },
  {
   "cell_type": "code",
   "execution_count": 29,
   "metadata": {},
   "outputs": [
    {
     "name": "stdout",
     "output_type": "stream",
     "text": [
      "          ID                             Title  \\\n",
      "0          1             Edgar's Lunch (1998)    \n",
      "1          2         La guerra de papá (1977)    \n",
      "2          3      Off the Beaten Track (2010)    \n",
      "3          4           Meu Amigo Hindu (2015)    \n",
      "4          5                Er nu zhai (1955)    \n",
      "...      ...                               ...   \n",
      "54195  54196   \"Tales of Light & Dark\" (2013)    \n",
      "54196  54197      Der letzte Mohikaner (1965)    \n",
      "54197  54198              Oliver Twink (2007)    \n",
      "54198  54199                Slipstream (1973)    \n",
      "54199  54200        Curitiba Zero Grau (2010)    \n",
      "\n",
      "                                             Description  \\\n",
      "0       L.R. Brane loves his life - his car, his apar...   \n",
      "1       Spain, March 1964: Quico is a very naughty ch...   \n",
      "2       One year in the life of Albin and his family ...   \n",
      "3       His father has died, he hasn't spoken with hi...   \n",
      "4       Before he was known internationally as a mart...   \n",
      "...                                                  ...   \n",
      "54195   Covering multiple genres, Tales of Light & Da...   \n",
      "54196   As Alice and Cora Munro attempt to find their...   \n",
      "54197   A movie 169 years in the making. Oliver Twist...   \n",
      "54198   Popular, but mysterious rock D.J Mike Mallard...   \n",
      "54199   Curitiba is a city in movement, with rhythms ...   \n",
      "\n",
      "                                         new_Description  \n",
      "0      l r brane loves life car apartment job especia...  \n",
      "1      spain march quico naughty child three belongin...  \n",
      "2      one year life albin family shepherds north tra...  \n",
      "3      father died spoken brother years serious cance...  \n",
      "4      known internationally martial arts superstar b...  \n",
      "...                                                  ...  \n",
      "54195  covering multiple genres tales light dark anth...  \n",
      "54196  alice cora munro attempt find father british o...  \n",
      "54197  movie years making oliver twist artful dodger ...  \n",
      "54198  popular mysterious rock j mike mallard askew b...  \n",
      "54199  curitiba city movement rhythms different pulsa...  \n",
      "\n",
      "[54200 rows x 4 columns]\n"
     ]
    }
   ],
   "source": [
    "print(test_data)"
   ]
  },
  {
   "cell_type": "markdown",
   "metadata": {},
   "source": [
    "ENCODING GENRE LABEL"
   ]
  },
  {
   "cell_type": "code",
   "execution_count": 30,
   "metadata": {},
   "outputs": [
    {
     "name": "stdout",
     "output_type": "stream",
     "text": [
      "[ 8 24  1  8  8  7  5  6 18 13]\n",
      "{'action': np.int64(0), 'adult': np.int64(1), 'adventure': np.int64(2), 'animation': np.int64(3), 'biography': np.int64(4), 'comedy': np.int64(5), 'crime': np.int64(6), 'documentary': np.int64(7), 'drama': np.int64(8), 'family': np.int64(9), 'fantasy': np.int64(10), 'game-show': np.int64(11), 'history': np.int64(12), 'horror': np.int64(13), 'music': np.int64(14), 'musical': np.int64(15), 'mystery': np.int64(16), 'news': np.int64(17), 'reality-tv': np.int64(18), 'romance': np.int64(19), 'sci-fi': np.int64(20), 'short': np.int64(21), 'sport': np.int64(22), 'talk-show': np.int64(23), 'thriller': np.int64(24), 'war': np.int64(25), 'western': np.int64(26)}\n"
     ]
    }
   ],
   "source": [
    "train_data['Genre'] = train_data['Genre'].str.strip().str.lower()\n",
    "encoder = LabelEncoder()\n",
    "y_train = encoder.fit_transform(train_data[\"Genre\"])\n",
    "print(y_train[:10])\n",
    "genre_position = dict(zip(encoder.classes_, encoder.transform(encoder.classes_)))\n",
    "print(genre_position)"
   ]
  },
  {
   "cell_type": "markdown",
   "metadata": {},
   "source": [
    "SPLITTING THE DATASET"
   ]
  },
  {
   "cell_type": "code",
   "execution_count": 31,
   "metadata": {},
   "outputs": [
    {
     "name": "stdout",
     "output_type": "stream",
     "text": [
      "Training set shape:  43371 43371\n",
      "Validation test shape:  10843 10843\n",
      "Test shape given to us:  (54200, 4)\n"
     ]
    }
   ],
   "source": [
    "X = train_data[\"new_Description\"]\n",
    "y = y_train\n",
    "X_train_split,X_val,y_train_split,y_val = train_test_split(X,y,train_size = 0.8, test_size = 0.2,random_state =42)\n",
    "print(\"Training set shape: \", len(X_train_split),len(y_train_split))\n",
    "print(\"Validation test shape: \", len(X_val),len(y_val))\n",
    "print(\"Test shape given to us: \",test_data.shape)"
   ]
  },
  {
   "cell_type": "markdown",
   "metadata": {},
   "source": [
    "FEATURE SCALING"
   ]
  },
  {
   "cell_type": "code",
   "execution_count": 32,
   "metadata": {},
   "outputs": [],
   "source": [
    "ftf = TfidfVectorizer(\n",
    "token_pattern = r\"(?u)\\b\\w+\\b\",\n",
    "lowercase = True,\n",
    "decode_error= 'ignore',\n",
    "max_features = 40000,\n",
    "ngram_range = (1,3),\n",
    "use_idf = True,\n",
    "smooth_idf = True,\n",
    "sublinear_tf = True,\n",
    "\n",
    "min_df = 1,\n",
    "max_df = 1.0\n",
    ")\n",
    "\n",
    "X_train_trans = ftf.fit_transform(X_train_split)\n",
    "X_val_trans = ftf.transform(X_val)\n",
    "X_test_trans = ftf.transform(test_data[\"new_Description\"])\n",
    "\n"
   ]
  },
  {
   "cell_type": "code",
   "execution_count": 33,
   "metadata": {},
   "outputs": [
    {
     "name": "stdout",
     "output_type": "stream",
     "text": [
      "(54200, 40000)\n"
     ]
    }
   ],
   "source": [
    "print(X_test_trans.shape)"
   ]
  },
  {
   "cell_type": "code",
   "execution_count": 34,
   "metadata": {},
   "outputs": [
    {
     "name": "stdout",
     "output_type": "stream",
     "text": [
      "Train tfidf shape:  (43371, 40000)\n",
      "Validation tfidf shape:  (10843, 40000)\n",
      "Test tfidf shape:  (54200, 40000)\n"
     ]
    }
   ],
   "source": [
    "print(\"Train tfidf shape: \", X_train_trans.shape)\n",
    "print(\"Validation tfidf shape: \", X_val_trans.shape)\n",
    "print(\"Test tfidf shape: \", X_test_trans.shape)"
   ]
  },
  {
   "cell_type": "code",
   "execution_count": 35,
   "metadata": {},
   "outputs": [
    {
     "name": "stdout",
     "output_type": "stream",
     "text": [
      "0\n",
      "Sample Features:  ['_' '_ qv' '_ qv _the' '_the' 'aa' 'aamir' 'aarhus' 'aaron' 'aarti'\n",
      " 'aatrayee' 'ab' 'aba' 'abandon' 'abandoned' 'abandoned baby'\n",
      " 'abandoned building' 'abandoned child' 'abandoned children'\n",
      " 'abandoned family' 'abandoned house']\n"
     ]
    }
   ],
   "source": [
    "print(test_data[\"new_Description\"].isnull().sum())\n",
    "print(\"Sample Features: \", ftf.get_feature_names_out()[:20])"
   ]
  },
  {
   "cell_type": "code",
   "execution_count": 36,
   "metadata": {},
   "outputs": [],
   "source": [
    "classes = np.unique(y_train_split)\n",
    "class_weights = compute_class_weight('balanced',classes = classes, y=y_train_split)\n",
    "class_weights_dict = dict(zip(classes, class_weights))"
   ]
  },
  {
   "cell_type": "markdown",
   "metadata": {},
   "source": [
    "LOGISTIC REGRESSION MODEL"
   ]
  },
  {
   "cell_type": "code",
   "execution_count": 37,
   "metadata": {},
   "outputs": [
    {
     "name": "stdout",
     "output_type": "stream",
     "text": [
      "Validation Accuracy: 0.6014\n"
     ]
    }
   ],
   "source": [
    "model = LogisticRegression(\n",
    "    max_iter= 15000,  \n",
    "    random_state= 42,\n",
    "    tol = 1e-2,\n",
    "    intercept_scaling = 1,\n",
    "    C=17.0,\n",
    "    penalty  = 'l2',\n",
    "    solver = 'liblinear',\n",
    "    class_weight= class_weights_dict,\n",
    ")\n",
    "\n",
    "model.fit(X_train_trans, y_train_split)  \n",
    "y_prediction = model.predict(X_val_trans) \n",
    "\n",
    "accuracy = accuracy_score(y_val, y_prediction)\n",
    "print(f\"Validation Accuracy: {accuracy:.4f}\")\n"
   ]
  },
  {
   "cell_type": "code",
   "execution_count": 38,
   "metadata": {},
   "outputs": [
    {
     "name": "stdout",
     "output_type": "stream",
     "text": [
      "Classification Report:                precision    recall  f1-score   support\n",
      "\n",
      "           0       0.41      0.43      0.42       263\n",
      "           1       0.66      0.60      0.63       112\n",
      "           2       0.33      0.29      0.31       139\n",
      "           3       0.34      0.20      0.25       104\n",
      "           4       0.12      0.02      0.03        61\n",
      "           5       0.57      0.63      0.60      1443\n",
      "           6       0.25      0.17      0.20       107\n",
      "           7       0.75      0.79      0.77      2659\n",
      "           8       0.65      0.65      0.65      2697\n",
      "           9       0.31      0.26      0.28       150\n",
      "          10       0.27      0.09      0.14        74\n",
      "          11       0.82      0.70      0.76        40\n",
      "          12       0.60      0.07      0.12        45\n",
      "          13       0.62      0.71      0.66       431\n",
      "          14       0.53      0.68      0.60       144\n",
      "          15       0.22      0.10      0.14        50\n",
      "          16       0.27      0.11      0.15        56\n",
      "          17       0.14      0.06      0.08        34\n",
      "          18       0.42      0.43      0.42       192\n",
      "          19       0.17      0.09      0.12       151\n",
      "          20       0.43      0.41      0.42       143\n",
      "          21       0.46      0.45      0.46      1045\n",
      "          22       0.57      0.57      0.57        93\n",
      "          23       0.46      0.37      0.41        81\n",
      "          24       0.31      0.31      0.31       309\n",
      "          25       0.20      0.15      0.17        20\n",
      "          26       0.83      0.88      0.85       200\n",
      "\n",
      "    accuracy                           0.60     10843\n",
      "   macro avg       0.43      0.38      0.39     10843\n",
      "weighted avg       0.59      0.60      0.59     10843\n",
      "\n"
     ]
    }
   ],
   "source": [
    "print(\"Classification Report: \", classification_report(y_val,y_prediction))"
   ]
  },
  {
   "cell_type": "markdown",
   "metadata": {},
   "source": []
  },
  {
   "cell_type": "markdown",
   "metadata": {},
   "source": [
    "TEST SET EVALUATION"
   ]
  },
  {
   "cell_type": "code",
   "execution_count": 39,
   "metadata": {},
   "outputs": [
    {
     "name": "stdout",
     "output_type": "stream",
     "text": [
      "Index(['ID', 'Title', 'Description', 'new_Description'], dtype='object')\n"
     ]
    }
   ],
   "source": [
    "print(test_data.columns)"
   ]
  },
  {
   "cell_type": "markdown",
   "metadata": {},
   "source": [
    "TRANSFORMING TEST DATA"
   ]
  },
  {
   "cell_type": "code",
   "execution_count": 40,
   "metadata": {},
   "outputs": [
    {
     "name": "stdout",
     "output_type": "stream",
     "text": [
      "['comedy' 'drama' 'documentary' 'drama' 'drama' 'adult' 'drama' 'comedy'\n",
      " 'documentary' 'drama' 'drama' 'comedy' 'drama' 'documentary' 'short'\n",
      " 'sport' 'comedy' 'western' 'documentary' 'drama']\n"
     ]
    }
   ],
   "source": [
    "X_test_tfidf  = ftf.transform(test_data['Description'])\n",
    "y_test_pred = model.predict(X_test_trans)\n",
    "y_test_pred_labels = encoder.inverse_transform(y_test_pred)\n",
    "print(y_test_pred_labels[:20])\n"
   ]
  },
  {
   "cell_type": "code",
   "execution_count": 41,
   "metadata": {},
   "outputs": [
    {
     "name": "stdout",
     "output_type": "stream",
     "text": [
      "Index(['ID', 'Title', 'Description', 'new_Description'], dtype='object')\n"
     ]
    }
   ],
   "source": [
    "print(test_data.columns)"
   ]
  },
  {
   "cell_type": "code",
   "execution_count": 42,
   "metadata": {},
   "outputs": [
    {
     "name": "stdout",
     "output_type": "stream",
     "text": [
      "Predictions saved successfully!\n"
     ]
    }
   ],
   "source": [
    "submission_df = pd.DataFrame({\n",
    "    'ID': test_data['ID'],\n",
    "    'Predicted_Genre': y_test_pred_labels\n",
    "})\n",
    "\n",
    "submission_df.to_csv(\"movie_genre_predictions.csv\", index=False)\n",
    "print(\"Predictions saved successfully!\")"
   ]
  },
  {
   "cell_type": "code",
   "execution_count": 43,
   "metadata": {},
   "outputs": [
    {
     "name": "stdout",
     "output_type": "stream",
     "text": [
      "   ID Predicted_Genre\n",
      "0   1          comedy\n",
      "1   2           drama\n",
      "2   3     documentary\n",
      "3   4           drama\n",
      "4   5           drama\n"
     ]
    }
   ],
   "source": [
    "df = pd.read_csv(\"movie_genre_predictions.csv\")\n",
    "print(df.head())"
   ]
  }
 ],
 "metadata": {
  "kernelspec": {
   "display_name": "ml_env",
   "language": "python",
   "name": "python3"
  },
  "language_info": {
   "codemirror_mode": {
    "name": "ipython",
    "version": 3
   },
   "file_extension": ".py",
   "mimetype": "text/x-python",
   "name": "python",
   "nbconvert_exporter": "python",
   "pygments_lexer": "ipython3",
   "version": "3.12.9"
  }
 },
 "nbformat": 4,
 "nbformat_minor": 2
}
