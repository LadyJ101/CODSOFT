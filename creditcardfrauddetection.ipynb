{
 "cells": [
  {
   "cell_type": "markdown",
   "metadata": {},
   "source": [
    "IMPORTING LIBRARIES"
   ]
  },
  {
   "cell_type": "code",
   "execution_count": 2,
   "metadata": {},
   "outputs": [],
   "source": [
    "import pandas as pd\n",
    "import numpy as np\n",
    "from sklearn.preprocessing import LabelEncoder\n",
    "from sklearn.ensemble import RandomForestClassifier\n",
    "from sklearn.metrics import classification_report, accuracy_score, confusion_matrix\n",
    "from sklearn.preprocessing import StandardScaler\n",
    "from sklearn.preprocessing import OrdinalEncoder\n",
    "from datetime import datetime\n"
   ]
  },
  {
   "cell_type": "markdown",
   "metadata": {},
   "source": [
    "LOADING DATASET"
   ]
  },
  {
   "cell_type": "code",
   "execution_count": 3,
   "metadata": {},
   "outputs": [],
   "source": [
    "x_train = pd.read_csv(\"C:/Users/User/Downloads/Credit Card Fraud  Dataset/fraudTrain.csv\")\n",
    "x_test = pd.read_csv(\"C:/Users/User/Downloads/Credit Card Fraud  Dataset/fraudTest.csv\")"
   ]
  },
  {
   "cell_type": "markdown",
   "metadata": {},
   "source": [
    "CHECKING FOR BOTH MISSING AND DUPLICATE DATA"
   ]
  },
  {
   "cell_type": "code",
   "execution_count": 4,
   "metadata": {},
   "outputs": [
    {
     "data": {
      "text/plain": [
       "np.int64(0)"
      ]
     },
     "execution_count": 4,
     "metadata": {},
     "output_type": "execute_result"
    }
   ],
   "source": [
    "x_train.isnull().sum()\n",
    "x_test.isnull().sum()\n",
    "x_train.duplicated().sum()\n",
    "x_test.duplicated().sum()"
   ]
  },
  {
   "cell_type": "markdown",
   "metadata": {},
   "source": [
    "ENCODING CATEGORICAL FEATURES"
   ]
  },
  {
   "cell_type": "code",
   "execution_count": 5,
   "metadata": {},
   "outputs": [],
   "source": [
    "x_train['job'] = x_train['job'].astype('category')\n",
    "x_test['job'] = x_test['job'].astype('category')\n",
    "\n",
    "x_train['job'] = x_train['job'].cat.codes\n",
    "x_test['job'] = x_test['job'].cat.codes"
   ]
  },
  {
   "cell_type": "code",
   "execution_count": 6,
   "metadata": {},
   "outputs": [],
   "source": [
    "le_gen = LabelEncoder()\n",
    "x_train['gender'] = le_gen.fit_transform(x_train['gender'])\n",
    "x_test['gender'] = le_gen.transform(x_test['gender'])\n",
    "\n"
   ]
  },
  {
   "cell_type": "code",
   "execution_count": 7,
   "metadata": {},
   "outputs": [
    {
     "name": "stdout",
     "output_type": "stream",
     "text": [
      "   Unnamed: 0 trans_date_trans_time            cc_num  \\\n",
      "0           0   2019-01-01 00:00:18  2703186189652095   \n",
      "1           1   2019-01-01 00:00:44      630423337322   \n",
      "2           2   2019-01-01 00:00:51    38859492057661   \n",
      "3           3   2019-01-01 00:01:16  3534093764340240   \n",
      "4           4   2019-01-01 00:03:06   375534208663984   \n",
      "\n",
      "                             merchant       category     amt      first  \\\n",
      "0          fraud_Rippin, Kub and Mann       misc_net    4.97   Jennifer   \n",
      "1     fraud_Heller, Gutmann and Zieme    grocery_pos  107.23  Stephanie   \n",
      "2                fraud_Lind-Buckridge  entertainment  220.11     Edward   \n",
      "3  fraud_Kutch, Hermiston and Farrell  gas_transport   45.00     Jeremy   \n",
      "4                 fraud_Keeling-Crist       misc_pos   41.96      Tyler   \n",
      "\n",
      "      last  gender                        street  ...      lat      long  \\\n",
      "0    Banks       0                561 Perry Cove  ...  36.0788  -81.1781   \n",
      "1     Gill       0  43039 Riley Greens Suite 393  ...  48.8878 -118.2105   \n",
      "2  Sanchez       1      594 White Dale Suite 530  ...  42.1808 -112.2620   \n",
      "3    White       1   9443 Cynthia Court Apt. 038  ...  46.2306 -112.1138   \n",
      "4   Garcia       1              408 Bradley Rest  ...  38.4207  -79.4629   \n",
      "\n",
      "   city_pop  job         dob                         trans_num   unix_time  \\\n",
      "0      3495  370  1988-03-09  0b242abb623afc578575680df30655b9  1325376018   \n",
      "1       149  428  1978-06-21  1f76529f8574734946361c461b024d99  1325376044   \n",
      "2      4154  307  1962-01-19  a1a22d70485983eac12b5b88dad1cf95  1325376051   \n",
      "3      1939  328  1967-01-12  6b849c168bdad6f867558c3793159a81  1325376076   \n",
      "4        99  116  1986-03-28  a41d7549acf90789359a9aa5346dcb46  1325376186   \n",
      "\n",
      "   merch_lat  merch_long  is_fraud  \n",
      "0  36.011293  -82.048315         0  \n",
      "1  49.159047 -118.186462         0  \n",
      "2  43.150704 -112.154481         0  \n",
      "3  47.034331 -112.561071         0  \n",
      "4  38.674999  -78.632459         0  \n",
      "\n",
      "[5 rows x 23 columns]\n",
      "<bound method NDFrame.head of         Unnamed: 0 trans_date_trans_time            cc_num  \\\n",
      "0                0   2020-06-21 12:14:25  2291163933867244   \n",
      "1                1   2020-06-21 12:14:33  3573030041201292   \n",
      "2                2   2020-06-21 12:14:53  3598215285024754   \n",
      "3                3   2020-06-21 12:15:15  3591919803438423   \n",
      "4                4   2020-06-21 12:15:17  3526826139003047   \n",
      "...            ...                   ...               ...   \n",
      "555714      555714   2020-12-31 23:59:07    30560609640617   \n",
      "555715      555715   2020-12-31 23:59:09  3556613125071656   \n",
      "555716      555716   2020-12-31 23:59:15  6011724471098086   \n",
      "555717      555717   2020-12-31 23:59:24     4079773899158   \n",
      "555718      555718   2020-12-31 23:59:34  4170689372027579   \n",
      "\n",
      "                                    merchant        category     amt    first  \\\n",
      "0                      fraud_Kirlin and Sons   personal_care    2.86     Jeff   \n",
      "1                       fraud_Sporer-Keebler   personal_care   29.84   Joanne   \n",
      "2       fraud_Swaniawski, Nitzsche and Welch  health_fitness   41.28   Ashley   \n",
      "3                          fraud_Haley Group        misc_pos   60.05    Brian   \n",
      "4                      fraud_Johnston-Casper          travel    3.19   Nathan   \n",
      "...                                      ...             ...     ...      ...   \n",
      "555714                 fraud_Reilly and Sons  health_fitness   43.77  Michael   \n",
      "555715                  fraud_Hoppe-Parisian       kids_pets  111.84     Jose   \n",
      "555716                       fraud_Rau-Robel       kids_pets   86.88      Ann   \n",
      "555717                 fraud_Breitenberg LLC          travel    7.99     Eric   \n",
      "555718                     fraud_Dare-Marvin   entertainment   38.13   Samuel   \n",
      "\n",
      "            last  gender                       street  ...      lat      long  \\\n",
      "0        Elliott       1            351 Darlene Green  ...  33.9659  -80.9355   \n",
      "1       Williams       0             3638 Marsh Union  ...  40.3207 -110.4360   \n",
      "2          Lopez       0         9333 Valentine Point  ...  40.6729  -73.5365   \n",
      "3       Williams       1  32941 Krystal Mill Apt. 552  ...  28.5697  -80.8191   \n",
      "4         Massey       1     5783 Evan Roads Apt. 465  ...  44.2529  -85.0170   \n",
      "...          ...     ...                          ...  ...      ...       ...   \n",
      "555714     Olson       1          558 Michael Estates  ...  40.4931  -91.8912   \n",
      "555715   Vasquez       1          572 Davis Mountains  ...  29.0393  -95.4401   \n",
      "555716    Lawson       0   144 Evans Islands Apt. 683  ...  46.1966 -118.9017   \n",
      "555717   Preston       1   7020 Doyle Stream Apt. 951  ...  44.6255 -116.4493   \n",
      "555718      Frey       1     830 Myers Plaza Apt. 384  ...  35.6665  -97.4798   \n",
      "\n",
      "        city_pop  job         dob                         trans_num  \\\n",
      "0         333497  275  1968-03-19  2da90c7d74bd46a0caf3777415b3ebd3   \n",
      "1            302  392  1990-01-17  324cc204407e99f51b0d6ca0055005e7   \n",
      "2          34496  259  1970-10-21  c81755dbbbea9d5c77f094348a7579be   \n",
      "3          54767  407  1987-07-25  2159175b9efe66dc301f149d3d5abf8c   \n",
      "4           1126  196  1955-07-06  57ff021bd3f328f8738bb535c302a31b   \n",
      "...          ...  ...         ...                               ...   \n",
      "555714       519  460  1966-02-13  9b1f753c79894c9f4b71f04581835ada   \n",
      "555715     28739  198  1999-12-27  2090647dac2c89a1d86c514c427f5b91   \n",
      "555716      3684  294  1981-11-29  6c5b7c8add471975aa0fec023b2e8408   \n",
      "555717       129   58  1965-12-15  14392d723bb7737606b2700ac791b7aa   \n",
      "555718    116001  276  1993-05-10  1765bb45b3aa3224b4cdcb6e7a96cee3   \n",
      "\n",
      "         unix_time  merch_lat  merch_long  is_fraud  \n",
      "0       1371816865  33.986391  -81.200714         0  \n",
      "1       1371816873  39.450498 -109.960431         0  \n",
      "2       1371816893  40.495810  -74.196111         0  \n",
      "3       1371816915  28.812398  -80.883061         0  \n",
      "4       1371816917  44.959148  -85.884734         0  \n",
      "...            ...        ...         ...       ...  \n",
      "555714  1388534347  39.946837  -91.333331         0  \n",
      "555715  1388534349  29.661049  -96.186633         0  \n",
      "555716  1388534355  46.658340 -119.715054         0  \n",
      "555717  1388534364  44.470525 -117.080888         0  \n",
      "555718  1388534374  36.210097  -97.036372         0  \n",
      "\n",
      "[555719 rows x 23 columns]>\n"
     ]
    }
   ],
   "source": [
    "print(x_train.head())\n",
    "print(x_test.head)"
   ]
  },
  {
   "cell_type": "code",
   "execution_count": 8,
   "metadata": {},
   "outputs": [
    {
     "name": "stdout",
     "output_type": "stream",
     "text": [
      "(1296675, 23)\n",
      "(555719, 23)\n",
      "   Unnamed: 0 trans_date_trans_time            cc_num  \\\n",
      "0           0   2019-01-01 00:00:18  2703186189652095   \n",
      "1           1   2019-01-01 00:00:44      630423337322   \n",
      "2           2   2019-01-01 00:00:51    38859492057661   \n",
      "3           3   2019-01-01 00:01:16  3534093764340240   \n",
      "4           4   2019-01-01 00:03:06   375534208663984   \n",
      "\n",
      "                             merchant       category     amt      first  \\\n",
      "0          fraud_Rippin, Kub and Mann       misc_net    4.97   Jennifer   \n",
      "1     fraud_Heller, Gutmann and Zieme    grocery_pos  107.23  Stephanie   \n",
      "2                fraud_Lind-Buckridge  entertainment  220.11     Edward   \n",
      "3  fraud_Kutch, Hermiston and Farrell  gas_transport   45.00     Jeremy   \n",
      "4                 fraud_Keeling-Crist       misc_pos   41.96      Tyler   \n",
      "\n",
      "      last  gender                        street  ...      lat      long  \\\n",
      "0    Banks       0                561 Perry Cove  ...  36.0788  -81.1781   \n",
      "1     Gill       0  43039 Riley Greens Suite 393  ...  48.8878 -118.2105   \n",
      "2  Sanchez       1      594 White Dale Suite 530  ...  42.1808 -112.2620   \n",
      "3    White       1   9443 Cynthia Court Apt. 038  ...  46.2306 -112.1138   \n",
      "4   Garcia       1              408 Bradley Rest  ...  38.4207  -79.4629   \n",
      "\n",
      "   city_pop  job         dob                         trans_num   unix_time  \\\n",
      "0      3495  370  1988-03-09  0b242abb623afc578575680df30655b9  1325376018   \n",
      "1       149  428  1978-06-21  1f76529f8574734946361c461b024d99  1325376044   \n",
      "2      4154  307  1962-01-19  a1a22d70485983eac12b5b88dad1cf95  1325376051   \n",
      "3      1939  328  1967-01-12  6b849c168bdad6f867558c3793159a81  1325376076   \n",
      "4        99  116  1986-03-28  a41d7549acf90789359a9aa5346dcb46  1325376186   \n",
      "\n",
      "   merch_lat  merch_long  is_fraud  \n",
      "0  36.011293  -82.048315         0  \n",
      "1  49.159047 -118.186462         0  \n",
      "2  43.150704 -112.154481         0  \n",
      "3  47.034331 -112.561071         0  \n",
      "4  38.674999  -78.632459         0  \n",
      "\n",
      "[5 rows x 23 columns]\n",
      "   Unnamed: 0 trans_date_trans_time            cc_num  \\\n",
      "0           0   2020-06-21 12:14:25  2291163933867244   \n",
      "1           1   2020-06-21 12:14:33  3573030041201292   \n",
      "2           2   2020-06-21 12:14:53  3598215285024754   \n",
      "3           3   2020-06-21 12:15:15  3591919803438423   \n",
      "4           4   2020-06-21 12:15:17  3526826139003047   \n",
      "\n",
      "                               merchant        category    amt   first  \\\n",
      "0                 fraud_Kirlin and Sons   personal_care   2.86    Jeff   \n",
      "1                  fraud_Sporer-Keebler   personal_care  29.84  Joanne   \n",
      "2  fraud_Swaniawski, Nitzsche and Welch  health_fitness  41.28  Ashley   \n",
      "3                     fraud_Haley Group        misc_pos  60.05   Brian   \n",
      "4                 fraud_Johnston-Casper          travel   3.19  Nathan   \n",
      "\n",
      "       last  gender                       street  ...      lat      long  \\\n",
      "0   Elliott       1            351 Darlene Green  ...  33.9659  -80.9355   \n",
      "1  Williams       0             3638 Marsh Union  ...  40.3207 -110.4360   \n",
      "2     Lopez       0         9333 Valentine Point  ...  40.6729  -73.5365   \n",
      "3  Williams       1  32941 Krystal Mill Apt. 552  ...  28.5697  -80.8191   \n",
      "4    Massey       1     5783 Evan Roads Apt. 465  ...  44.2529  -85.0170   \n",
      "\n",
      "   city_pop  job         dob                         trans_num   unix_time  \\\n",
      "0    333497  275  1968-03-19  2da90c7d74bd46a0caf3777415b3ebd3  1371816865   \n",
      "1       302  392  1990-01-17  324cc204407e99f51b0d6ca0055005e7  1371816873   \n",
      "2     34496  259  1970-10-21  c81755dbbbea9d5c77f094348a7579be  1371816893   \n",
      "3     54767  407  1987-07-25  2159175b9efe66dc301f149d3d5abf8c  1371816915   \n",
      "4      1126  196  1955-07-06  57ff021bd3f328f8738bb535c302a31b  1371816917   \n",
      "\n",
      "   merch_lat  merch_long  is_fraud  \n",
      "0  33.986391  -81.200714         0  \n",
      "1  39.450498 -109.960431         0  \n",
      "2  40.495810  -74.196111         0  \n",
      "3  28.812398  -80.883061         0  \n",
      "4  44.959148  -85.884734         0  \n",
      "\n",
      "[5 rows x 23 columns]\n"
     ]
    }
   ],
   "source": [
    "print(x_train.shape)\n",
    "print(x_test.shape)\n",
    "\n",
    "print(x_train.head())\n",
    "print(x_test.head())"
   ]
  },
  {
   "cell_type": "markdown",
   "metadata": {},
   "source": [
    "FEATURE SCALING"
   ]
  },
  {
   "cell_type": "code",
   "execution_count": 9,
   "metadata": {},
   "outputs": [
    {
     "name": "stdout",
     "output_type": "stream",
     "text": [
      "amt         -9.447052e-18\n",
      "lat         -3.796575e-16\n",
      "long        -4.366253e-15\n",
      "city_pop    -1.350753e-18\n",
      "unix_time   -2.571352e-15\n",
      "dtype: float64 amt          1.0\n",
      "lat          1.0\n",
      "long         1.0\n",
      "city_pop     1.0\n",
      "unix_time    1.0\n",
      "dtype: float64\n",
      "   Unnamed: 0 trans_date_trans_time            cc_num  \\\n",
      "0           0   2019-01-01 00:00:18  2703186189652095   \n",
      "1           1   2019-01-01 00:00:44      630423337322   \n",
      "2           2   2019-01-01 00:00:51    38859492057661   \n",
      "3           3   2019-01-01 00:01:16  3534093764340240   \n",
      "4           4   2019-01-01 00:03:06   375534208663984   \n",
      "\n",
      "                             merchant       category       amt      first  \\\n",
      "0          fraud_Rippin, Kub and Mann       misc_net -0.407826   Jennifer   \n",
      "1     fraud_Heller, Gutmann and Zieme    grocery_pos  0.230039  Stephanie   \n",
      "2                fraud_Lind-Buckridge  entertainment  0.934149     Edward   \n",
      "3  fraud_Kutch, Hermiston and Farrell  gas_transport -0.158132     Jeremy   \n",
      "4                 fraud_Keeling-Crist       misc_pos -0.177094      Tyler   \n",
      "\n",
      "      last  gender                        street  ...       lat      long  \\\n",
      "0    Banks       0                561 Perry Cove  ... -0.484420  0.657620   \n",
      "1     Gill       0  43039 Riley Greens Suite 393  ...  2.039120 -2.033870   \n",
      "2  Sanchez       1      594 White Dale Suite 530  ...  0.717754 -1.601537   \n",
      "3    White       1   9443 Cynthia Court Apt. 038  ...  1.515617 -1.590766   \n",
      "4   Garcia       1              408 Bradley Rest  ... -0.023035  0.782279   \n",
      "\n",
      "   city_pop  job         dob                         trans_num  unix_time  \\\n",
      "0 -0.282589  370  1988-03-09  0b242abb623afc578575680df30655b9  -1.858664   \n",
      "1 -0.293670  428  1978-06-21  1f76529f8574734946361c461b024d99  -1.858662   \n",
      "2 -0.280406  307  1962-01-19  a1a22d70485983eac12b5b88dad1cf95  -1.858662   \n",
      "3 -0.287742  328  1967-01-12  6b849c168bdad6f867558c3793159a81  -1.858660   \n",
      "4 -0.293835  116  1986-03-28  a41d7549acf90789359a9aa5346dcb46  -1.858651   \n",
      "\n",
      "   merch_lat  merch_long  is_fraud  \n",
      "0  36.011293  -82.048315         0  \n",
      "1  49.159047 -118.186462         0  \n",
      "2  43.150704 -112.154481         0  \n",
      "3  47.034331 -112.561071         0  \n",
      "4  38.674999  -78.632459         0  \n",
      "\n",
      "[5 rows x 23 columns]\n"
     ]
    }
   ],
   "source": [
    "scaler = StandardScaler()\n",
    "numeric_columns = ['amt', 'lat', 'long', 'city_pop','unix_time']\n",
    "\n",
    "existing_numeric_columns = [col for col in numeric_columns if col in x_train.columns]\n",
    "x_train[existing_numeric_columns] = scaler.fit_transform(x_train[existing_numeric_columns])\n",
    "x_test[existing_numeric_columns] = scaler.transform(x_test[existing_numeric_columns])\n",
    "\n",
    "print(x_train[existing_numeric_columns].mean(), x_train[numeric_columns].std())\n",
    "print(x_train.head())"
   ]
  },
  {
   "cell_type": "code",
   "execution_count": 10,
   "metadata": {},
   "outputs": [
    {
     "name": "stdout",
     "output_type": "stream",
     "text": [
      "Updated X_train shape: (1296675, 17)\n",
      "Updated X_test shape: (555719, 17)\n",
      "  trans_date_trans_time                            merchant       category  \\\n",
      "0   2019-01-01 00:00:18          fraud_Rippin, Kub and Mann       misc_net   \n",
      "1   2019-01-01 00:00:44     fraud_Heller, Gutmann and Zieme    grocery_pos   \n",
      "2   2019-01-01 00:00:51                fraud_Lind-Buckridge  entertainment   \n",
      "3   2019-01-01 00:01:16  fraud_Kutch, Hermiston and Farrell  gas_transport   \n",
      "4   2019-01-01 00:03:06                 fraud_Keeling-Crist       misc_pos   \n",
      "\n",
      "        amt      first     last  gender       lat      long  city_pop  job  \\\n",
      "0 -0.407826   Jennifer    Banks       0 -0.484420  0.657620 -0.282589  370   \n",
      "1  0.230039  Stephanie     Gill       0  2.039120 -2.033870 -0.293670  428   \n",
      "2  0.934149     Edward  Sanchez       1  0.717754 -1.601537 -0.280406  307   \n",
      "3 -0.158132     Jeremy    White       1  1.515617 -1.590766 -0.287742  328   \n",
      "4 -0.177094      Tyler   Garcia       1 -0.023035  0.782279 -0.293835  116   \n",
      "\n",
      "          dob                         trans_num  unix_time  merch_lat  \\\n",
      "0  1988-03-09  0b242abb623afc578575680df30655b9  -1.858664  36.011293   \n",
      "1  1978-06-21  1f76529f8574734946361c461b024d99  -1.858662  49.159047   \n",
      "2  1962-01-19  a1a22d70485983eac12b5b88dad1cf95  -1.858662  43.150704   \n",
      "3  1967-01-12  6b849c168bdad6f867558c3793159a81  -1.858660  47.034331   \n",
      "4  1986-03-28  a41d7549acf90789359a9aa5346dcb46  -1.858651  38.674999   \n",
      "\n",
      "   merch_long  is_fraud  \n",
      "0  -82.048315         0  \n",
      "1 -118.186462         0  \n",
      "2 -112.154481         0  \n",
      "3 -112.561071         0  \n",
      "4  -78.632459         0  \n"
     ]
    }
   ],
   "source": [
    "columns_to_drop = ['Unnamed: 0', 'cc_num', 'street', 'city', 'state', 'zip']\n",
    "x_train = x_train.drop(columns=[col for col in columns_to_drop if col in x_train.columns])\n",
    "x_test = x_test.drop(columns=[col for col in columns_to_drop if col in x_test.columns])\n",
    "\n",
    "print(\"Updated X_train shape:\", x_train.shape)\n",
    "print(\"Updated X_test shape:\", x_test.shape)\n",
    "print(x_train.head())\n"
   ]
  },
  {
   "cell_type": "code",
   "execution_count": 11,
   "metadata": {},
   "outputs": [
    {
     "name": "stdout",
     "output_type": "stream",
     "text": [
      "trans_date_trans_time     object\n",
      "merchant                  object\n",
      "category                  object\n",
      "amt                      float64\n",
      "first                     object\n",
      "last                      object\n",
      "gender                     int64\n",
      "lat                      float64\n",
      "long                     float64\n",
      "city_pop                 float64\n",
      "job                        int16\n",
      "dob                       object\n",
      "trans_num                 object\n",
      "unix_time                float64\n",
      "merch_lat                float64\n",
      "merch_long               float64\n",
      "is_fraud                   int64\n",
      "dtype: object\n"
     ]
    }
   ],
   "source": [
    "print(x_train.dtypes)"
   ]
  },
  {
   "cell_type": "code",
   "execution_count": 12,
   "metadata": {},
   "outputs": [
    {
     "name": "stdout",
     "output_type": "stream",
     "text": [
      "trans_date_trans_time     object\n",
      "merchant                  object\n",
      "category                  object\n",
      "amt                      float64\n",
      "first                     object\n",
      "last                      object\n",
      "gender                     int64\n",
      "lat                      float64\n",
      "long                     float64\n",
      "city_pop                 float64\n",
      "job                        int16\n",
      "unix_time                float64\n",
      "merch_lat                float64\n",
      "merch_long               float64\n",
      "is_fraud                   int64\n",
      "dtype: object\n"
     ]
    }
   ],
   "source": [
    "x_train = x_train.drop(columns=['dob', 'trans_num'])\n",
    "x_test =  x_test.drop(columns=['dob', 'trans_num'])\n",
    "\n",
    "print(x_train.dtypes)"
   ]
  },
  {
   "cell_type": "code",
   "execution_count": 13,
   "metadata": {},
   "outputs": [
    {
     "name": "stdout",
     "output_type": "stream",
     "text": [
      "<bound method NDFrame.head of          merchant  category       amt  gender       lat      long  city_pop  \\\n",
      "0             514         8 -0.407826       0 -0.484420  0.657620 -0.282589   \n",
      "1             241         4  0.230039       0  2.039120 -2.033870 -0.293670   \n",
      "2             390         0  0.934149       1  0.717754 -1.601537 -0.280406   \n",
      "3             360         2 -0.158132       1  1.515617 -1.590766 -0.287742   \n",
      "4             297         9 -0.177094       1 -0.023035  0.782279 -0.293835   \n",
      "...           ...       ...       ...     ...       ...       ...       ...   \n",
      "1296670       499         0 -0.341769       1 -0.161575 -1.617214 -0.293309   \n",
      "1296671         2         1 -0.116339       1  0.143638  0.924207 -0.293832   \n",
      "1296672       599         1  0.221930       1 -1.102883 -1.133257 -0.291186   \n",
      "1296673       509         1  0.028375       1  0.948613 -0.895029 -0.290434   \n",
      "1296674       370         1 -0.412005       1  1.439314 -1.718754 -0.293441   \n",
      "\n",
      "         job  unix_time  merch_lat  merch_long  is_fraud  \n",
      "0        370  -1.858664  36.011293  -82.048315         0  \n",
      "1        428  -1.858662  49.159047 -118.186462         0  \n",
      "2        307  -1.858662  43.150704 -112.154481         0  \n",
      "3        328  -1.858660  47.034331 -112.561071         0  \n",
      "4        116  -1.858651  38.674999  -78.632459         0  \n",
      "...      ...        ...        ...         ...       ...  \n",
      "1296670  215   1.757855  36.841266 -111.690765         0  \n",
      "1296671  360   1.757855  38.906881  -78.246528         0  \n",
      "1296672  308   1.757856  33.619513 -105.130529         0  \n",
      "1296673  485   1.757861  42.788940 -103.241160         0  \n",
      "1296674  467   1.757862  46.565983 -114.186110         0  \n",
      "\n",
      "[1296675 rows x 12 columns]>\n"
     ]
    }
   ],
   "source": [
    "categorical_columns = ['merchant', 'category', 'job']\n",
    "\n",
    "for col in categorical_columns:\n",
    "    le = LabelEncoder()\n",
    "    x_train[col] = le.fit_transform(x_train[col])\n",
    "    x_test[col] = le.transform(x_test[col])\n",
    "\n",
    "columns_to_drop = ['first','last','trans_date_trans_time']\n",
    "x_train = x_train.drop([col for col in columns_to_drop if col in x_train.columns], axis =1)\n",
    "x_test = x_test.drop([col for col in columns_to_drop if col in x_test.columns], axis = 1)\n",
    "print(x_train.head)"
   ]
  },
  {
   "cell_type": "code",
   "execution_count": 14,
   "metadata": {},
   "outputs": [
    {
     "name": "stdout",
     "output_type": "stream",
     "text": [
      "merchant      0\n",
      "category      0\n",
      "amt           0\n",
      "gender        0\n",
      "lat           0\n",
      "long          0\n",
      "city_pop      0\n",
      "job           0\n",
      "unix_time     0\n",
      "merch_lat     0\n",
      "merch_long    0\n",
      "is_fraud      0\n",
      "dtype: int64\n",
      "merchant      0\n",
      "category      0\n",
      "amt           0\n",
      "gender        0\n",
      "lat           0\n",
      "long          0\n",
      "city_pop      0\n",
      "job           0\n",
      "unix_time     0\n",
      "merch_lat     0\n",
      "merch_long    0\n",
      "is_fraud      0\n",
      "dtype: int64\n"
     ]
    }
   ],
   "source": [
    "print(x_train.isnull().sum())\n",
    "print(x_test.isnull().sum())"
   ]
  },
  {
   "cell_type": "markdown",
   "metadata": {},
   "source": [
    "SPLITTING THE DATASET"
   ]
  },
  {
   "cell_type": "code",
   "execution_count": 15,
   "metadata": {},
   "outputs": [
    {
     "name": "stdout",
     "output_type": "stream",
     "text": [
      "X_train shape: (1296675, 11)\n",
      "Y_train shape: (1296675,)\n",
      "X_test shape: (555719, 11)\n",
      "Y_test shape: (555719,)\n"
     ]
    }
   ],
   "source": [
    "y_train = x_train['is_fraud']\n",
    "y_test = x_test['is_fraud']\n",
    "\n",
    "x_train = x_train.drop(columns=['is_fraud'])\n",
    "x_test = x_test.drop(columns=['is_fraud'])\n",
    "\n",
    "print(\"X_train shape:\", x_train.shape)\n",
    "print(\"Y_train shape:\", y_train.shape)\n",
    "print(\"X_test shape:\", x_test.shape)\n",
    "print(\"Y_test shape:\", y_test.shape)"
   ]
  },
  {
   "cell_type": "markdown",
   "metadata": {},
   "source": [
    "RANDOM FOREST MDOEL"
   ]
  },
  {
   "cell_type": "code",
   "execution_count": 16,
   "metadata": {},
   "outputs": [
    {
     "name": "stdout",
     "output_type": "stream",
     "text": [
      "Index(['gender'], dtype='object')\n"
     ]
    }
   ],
   "source": [
    "binary_columns = x_train.columns[x_train.nunique()== 2]\n",
    "print(binary_columns)\n"
   ]
  },
  {
   "cell_type": "code",
   "execution_count": null,
   "metadata": {},
   "outputs": [],
   "source": []
  },
  {
   "cell_type": "code",
   "execution_count": 17,
   "metadata": {},
   "outputs": [
    {
     "name": "stdout",
     "output_type": "stream",
     "text": [
      "Accuracy: 99.6939\n"
     ]
    }
   ],
   "source": [
    "rf_model = RandomForestClassifier(n_estimators=100, random_state = 42, class_weight = 'balanced')\n",
    "\n",
    "\n",
    "rf_model.fit(x_train, y_train)\n",
    "\n",
    "y_pred = rf_model.predict(x_test)\n",
    "\n",
    "accuracy = accuracy_score(y_test, y_pred)\n",
    "print(f\"Accuracy: {accuracy * 100:.4f}\")"
   ]
  },
  {
   "cell_type": "code",
   "execution_count": 18,
   "metadata": {},
   "outputs": [
    {
     "name": "stdout",
     "output_type": "stream",
     "text": [
      "\n",
      "Classification Report:\n",
      "               precision    recall  f1-score   support\n",
      "\n",
      "           0       1.00      1.00      1.00    553574\n",
      "           1       0.97      0.21      0.35      2145\n",
      "\n",
      "    accuracy                           1.00    555719\n",
      "   macro avg       0.98      0.61      0.67    555719\n",
      "weighted avg       1.00      1.00      1.00    555719\n",
      "\n",
      "\n",
      "Confusion Matrix:\n",
      " [[553559     15]\n",
      " [  1686    459]]\n"
     ]
    }
   ],
   "source": [
    "print(\"\\nClassification Report:\\n\", classification_report(y_test, y_pred))\n",
    "print(\"\\nConfusion Matrix:\\n\", confusion_matrix(y_test,y_pred))"
   ]
  }
 ],
 "metadata": {
  "kernelspec": {
   "display_name": "ml_env",
   "language": "python",
   "name": "python3"
  },
  "language_info": {
   "codemirror_mode": {
    "name": "ipython",
    "version": 3
   },
   "file_extension": ".py",
   "mimetype": "text/x-python",
   "name": "python",
   "nbconvert_exporter": "python",
   "pygments_lexer": "ipython3",
   "version": "3.12.9"
  }
 },
 "nbformat": 4,
 "nbformat_minor": 2
}
